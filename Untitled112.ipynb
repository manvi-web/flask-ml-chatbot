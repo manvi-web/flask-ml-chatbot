{
 "cells": [
  {
   "cell_type": "code",
   "execution_count": null,
   "id": "4885fa53-24fb-44da-873b-f69346ae138f",
   "metadata": {},
   "outputs": [
    {
     "name": "stdout",
     "output_type": "stream",
     "text": [
      " * Serving Flask app '__main__'\n",
      " * Debug mode: off\n"
     ]
    },
    {
     "name": "stderr",
     "output_type": "stream",
     "text": [
      "WARNING: This is a development server. Do not use it in a production deployment. Use a production WSGI server instead.\n",
      " * Running on all addresses (0.0.0.0)\n",
      " * Running on http://127.0.0.1:10000\n",
      " * Running on http://192.168.2.37:10000\n",
      "Press CTRL+C to quit\n",
      "127.0.0.1 - - [07/Apr/2025 10:39:27] \"POST /chat HTTP/1.1\" 200 -\n"
     ]
    }
   ],
   "source": [
    "from flask import Flask, request, jsonify, render_template\n",
    "from sklearn.feature_extraction.text import TfidfVectorizer\n",
    "from sklearn.linear_model import LogisticRegression\n",
    "import pandas as pd\n",
    "import os\n",
    "app = Flask(__name__)\n",
    "data = pd.read_csv(\"faq_dataset.csv\") \n",
    "vectorizer = TfidfVectorizer()\n",
    "model = LogisticRegression()\n",
    "X = vectorizer.fit_transform(data[\"question\"])\n",
    "y = data[\"answer\"]\n",
    "model = LogisticRegression()\n",
    "model.fit(X, y)\n",
    "@app.route('/')\n",
    "def home():\n",
    "    return render_template('index.html')  \n",
    "@app.route('/chat', methods=['POST'])\n",
    "def chat():\n",
    "    data = request.get_json()\n",
    "    question = data.get(\"question\", \"\")\n",
    "    if not question:\n",
    "        return jsonify({\"answer\": \"Please enter a valid question.\"})\n",
    "\n",
    "    X_input = vectorizer.transform([question])\n",
    "    prediction = model.predict(X_input)[0]\n",
    "    return jsonify({\"answer\": prediction})\n",
    "if __name__ == '__main__':\n",
    "    port = int(os.environ.get(\"PORT\", 10000))\n",
    "    app.run(host='0.0.0.0', port=port)\n"
   ]
  },
  {
   "cell_type": "code",
   "execution_count": null,
   "id": "b51c3068-9d35-4406-94c6-d886e88e0b4b",
   "metadata": {},
   "outputs": [],
   "source": [
    "import pandas as pd\n",
    "df="
   ]
  }
 ],
 "metadata": {
  "kernelspec": {
   "display_name": "Python 3 (ipykernel)",
   "language": "python",
   "name": "python3"
  },
  "language_info": {
   "codemirror_mode": {
    "name": "ipython",
    "version": 3
   },
   "file_extension": ".py",
   "mimetype": "text/x-python",
   "name": "python",
   "nbconvert_exporter": "python",
   "pygments_lexer": "ipython3",
   "version": "3.8.10"
  }
 },
 "nbformat": 4,
 "nbformat_minor": 5
}
